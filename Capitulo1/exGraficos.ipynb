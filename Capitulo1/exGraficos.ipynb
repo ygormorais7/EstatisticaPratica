{
 "cells": [
  {
   "cell_type": "code",
   "execution_count": 46,
   "id": "0d5f2d4c",
   "metadata": {
    "vscode": {
     "languageId": "plaintext"
    }
   },
   "outputs": [],
   "source": [
    "import pandas as pd\n",
    "import numpy as np\n",
    "import seaborn as sns\n",
    "import matplotlib.pyplot as plt"
   ]
  },
  {
   "cell_type": "code",
   "execution_count": 47,
   "id": "e9c80ed7-7b4d-4f36-a8a3-fb0ae2257f2b",
   "metadata": {},
   "outputs": [],
   "source": [
    "states = pd.read_csv('state.csv')"
   ]
  },
  {
   "cell_type": "code",
   "execution_count": 48,
   "id": "eaadd2ef-3abe-4d93-bdbb-26d2c34cb1fc",
   "metadata": {},
   "outputs": [
    {
     "data": {
      "text/html": [
       "<div>\n",
       "<style scoped>\n",
       "    .dataframe tbody tr th:only-of-type {\n",
       "        vertical-align: middle;\n",
       "    }\n",
       "\n",
       "    .dataframe tbody tr th {\n",
       "        vertical-align: top;\n",
       "    }\n",
       "\n",
       "    .dataframe thead th {\n",
       "        text-align: right;\n",
       "    }\n",
       "</style>\n",
       "<table border=\"1\" class=\"dataframe\">\n",
       "  <thead>\n",
       "    <tr style=\"text-align: right;\">\n",
       "      <th></th>\n",
       "      <th>State</th>\n",
       "      <th>Population</th>\n",
       "      <th>Murder.Rate</th>\n",
       "      <th>Abbreviation</th>\n",
       "    </tr>\n",
       "  </thead>\n",
       "  <tbody>\n",
       "    <tr>\n",
       "      <th>0</th>\n",
       "      <td>Alabama</td>\n",
       "      <td>4779736</td>\n",
       "      <td>5.7</td>\n",
       "      <td>AL</td>\n",
       "    </tr>\n",
       "    <tr>\n",
       "      <th>1</th>\n",
       "      <td>Alaska</td>\n",
       "      <td>710231</td>\n",
       "      <td>5.6</td>\n",
       "      <td>AK</td>\n",
       "    </tr>\n",
       "    <tr>\n",
       "      <th>2</th>\n",
       "      <td>Arizona</td>\n",
       "      <td>6392017</td>\n",
       "      <td>4.7</td>\n",
       "      <td>AZ</td>\n",
       "    </tr>\n",
       "    <tr>\n",
       "      <th>3</th>\n",
       "      <td>Arkansas</td>\n",
       "      <td>2915918</td>\n",
       "      <td>5.6</td>\n",
       "      <td>AR</td>\n",
       "    </tr>\n",
       "    <tr>\n",
       "      <th>4</th>\n",
       "      <td>California</td>\n",
       "      <td>37253956</td>\n",
       "      <td>4.4</td>\n",
       "      <td>CA</td>\n",
       "    </tr>\n",
       "  </tbody>\n",
       "</table>\n",
       "</div>"
      ],
      "text/plain": [
       "        State  Population  Murder.Rate Abbreviation\n",
       "0     Alabama     4779736          5.7           AL\n",
       "1      Alaska      710231          5.6           AK\n",
       "2     Arizona     6392017          4.7           AZ\n",
       "3    Arkansas     2915918          5.6           AR\n",
       "4  California    37253956          4.4           CA"
      ]
     },
     "execution_count": 48,
     "metadata": {},
     "output_type": "execute_result"
    }
   ],
   "source": [
    "states.head()"
   ]
  },
  {
   "cell_type": "markdown",
   "id": "7b09f95c-5fd9-412f-94e3-75a4f32e8da6",
   "metadata": {},
   "source": [
    "### Boxplot da População"
   ]
  },
  {
   "cell_type": "code",
   "execution_count": 49,
   "id": "b5ec24e3-6f59-401a-bbdb-69b9ab9ad7d0",
   "metadata": {},
   "outputs": [],
   "source": [
    "states['Population100k'] = states['Population']/1000000"
   ]
  },
  {
   "cell_type": "code",
   "execution_count": 50,
   "id": "bceeea8e-7a25-4a07-83e4-b4271e020910",
   "metadata": {},
   "outputs": [
    {
     "data": {
      "image/png": "[encoded data removed]",
      "text/plain": [
       "<Figure size 640x480 with 1 Axes>"
      ]
     },
     "metadata": {},
     "output_type": "display_data"
    }
   ],
   "source": [
    "#states.boxplot(column='Population100k')\n",
    "sns.boxplot(y=states['Population100k'])\n",
    "plt.show()"
   ]
  },
  {
   "cell_type": "markdown",
   "id": "c1aa5764-7fd7-437b-b17d-9231075a596c",
   "metadata": {},
   "source": [
    "### Tabela de Frequência"
   ]
  },
  {
   "cell_type": "code",
   "execution_count": 51,
   "id": "0188370e-4096-49dc-a981-982de0dc5210",
   "metadata": {},
   "outputs": [],
   "source": [
    "classes_pop = pd.cut(states['Population100k'].sort_values(), bins=10)"
   ]
  },
  {
   "cell_type": "code",
   "execution_count": 52,
   "id": "344e201e-d6a6-464f-b25b-76ab36cbd71c",
   "metadata": {
    "scrolled": true
   },
   "outputs": [
    {
     "data": {
      "text/plain": [
       "Population100k\n",
       "(0.527, 4.233]      24\n",
       "(4.233, 7.902]      14\n",
       "(7.902, 11.571]      6\n",
       "(11.571, 15.24]      2\n",
       "(15.24, 18.909]      1\n",
       "(18.909, 22.578]     1\n",
       "(22.578, 26.247]     1\n",
       "(26.247, 29.916]     0\n",
       "(29.916, 33.585]     0\n",
       "(33.585, 37.254]     1\n",
       "Name: count, dtype: int64"
      ]
     },
     "execution_count": 52,
     "metadata": {},
     "output_type": "execute_result"
    }
   ],
   "source": [
    "classes_pop.value_counts(sort = False)"
   ]
  },
  {
   "cell_type": "code",
   "execution_count": 53,
   "id": "5e5794ef-03ff-4c63-b532-6099bd57b7a5",
   "metadata": {
    "scrolled": true
   },
   "outputs": [
    {
     "data": {
      "text/plain": [
       "Population100k\n",
       "(0.527, 4.233]      48.0\n",
       "(4.233, 7.902]      28.0\n",
       "(7.902, 11.571]     12.0\n",
       "(11.571, 15.24]      4.0\n",
       "(15.24, 18.909]      2.0\n",
       "(18.909, 22.578]     2.0\n",
       "(22.578, 26.247]     2.0\n",
       "(26.247, 29.916]     0.0\n",
       "(29.916, 33.585]     0.0\n",
       "(33.585, 37.254]     2.0\n",
       "Name: proportion, dtype: float64"
      ]
     },
     "execution_count": 53,
     "metadata": {},
     "output_type": "execute_result"
    }
   ],
   "source": [
    "classes_pop.value_counts(normalize = True, sort = False) * 100"
   ]
  },
  {
   "cell_type": "markdown",
   "id": "1fc28a95-1b87-4e47-b37e-1acde3a6a941",
   "metadata": {},
   "source": [
    "### Matriz de Correlação"
   ]
  },
  {
   "cell_type": "code",
   "execution_count": 54,
   "id": "341745fd-61c8-42db-a08e-d5c648e02034",
   "metadata": {},
   "outputs": [
    {
     "data": {
      "text/html": [
       "<div>\n",
       "<style scoped>\n",
       "    .dataframe tbody tr th:only-of-type {\n",
       "        vertical-align: middle;\n",
       "    }\n",
       "\n",
       "    .dataframe tbody tr th {\n",
       "        vertical-align: top;\n",
       "    }\n",
       "\n",
       "    .dataframe thead th {\n",
       "        text-align: right;\n",
       "    }\n",
       "</style>\n",
       "<table border=\"1\" class=\"dataframe\">\n",
       "  <thead>\n",
       "    <tr style=\"text-align: right;\">\n",
       "      <th></th>\n",
       "      <th>Population</th>\n",
       "      <th>Murder.Rate</th>\n",
       "    </tr>\n",
       "  </thead>\n",
       "  <tbody>\n",
       "    <tr>\n",
       "      <th>Population</th>\n",
       "      <td>1.000000</td>\n",
       "      <td>0.182069</td>\n",
       "    </tr>\n",
       "    <tr>\n",
       "      <th>Murder.Rate</th>\n",
       "      <td>0.182069</td>\n",
       "      <td>1.000000</td>\n",
       "    </tr>\n",
       "  </tbody>\n",
       "</table>\n",
       "</div>"
      ],
      "text/plain": [
       "             Population  Murder.Rate\n",
       "Population     1.000000     0.182069\n",
       "Murder.Rate    0.182069     1.000000"
      ]
     },
     "execution_count": 54,
     "metadata": {},
     "output_type": "execute_result"
    }
   ],
   "source": [
    "corr = states[['Population','Murder.Rate']].corr(numeric_only=True)\n",
    "corr"
   ]
  },
  {
   "cell_type": "code",
   "execution_count": 55,
   "id": "a9bcb2bb-aa36-434b-8c58-1005d25aca3f",
   "metadata": {},
   "outputs": [
    {
     "data": {
      "image/png": "[encoded data removed]",
      "text/plain": [
       "<Figure size 640x480 with 2 Axes>"
      ]
     },
     "metadata": {},
     "output_type": "display_data"
    }
   ],
   "source": [
    "sns.heatmap(corr, annot=True, cmap='coolwarm')\n",
    "plt.show()"
   ]
  },
  {
   "cell_type": "code",
   "execution_count": null,
   "id": "d90aa4de-0195-4f29-842d-6a10c82de317",
   "metadata": {},
   "outputs": [],
   "source": []
  }
 ],
 "metadata": {
  "kernelspec": {
   "display_name": "Python 3 (ipykernel)",
   "language": "python",
   "name": "python3"
  },
  "language_info": {
   "codemirror_mode": {
    "name": "ipython",
    "version": 3
   },
   "file_extension": ".py",
   "mimetype": "text/x-python",
   "name": "python",
   "nbconvert_exporter": "python",
   "pygments_lexer": "ipython3",
   "version": "3.12.3"
  }
 },
 "nbformat": 4,
 "nbformat_minor": 5
}
