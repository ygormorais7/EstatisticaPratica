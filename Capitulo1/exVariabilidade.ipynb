{
 "cells": [
  {
   "cell_type": "code",
   "execution_count": 19,
   "id": "2df82925",
   "metadata": {
    "vscode": {
     "languageId": "plaintext"
    }
   },
   "outputs": [],
   "source": [
    "import pandas as pd\n",
    "import numpy as np\n",
    "import seaborn as sns\n",
    "import matplotlib.pyplot as plt"
   ]
  },
  {
   "cell_type": "code",
   "execution_count": 20,
   "id": "6c3cf20a-7807-422b-aada-51e88df60b24",
   "metadata": {},
   "outputs": [],
   "source": [
    "states = pd.read_csv('state.csv')"
   ]
  },
  {
   "cell_type": "code",
   "execution_count": 21,
   "id": "1a8afa5a-03a7-470a-ac8f-c350d2bca99c",
   "metadata": {},
   "outputs": [
    {
     "data": {
      "text/html": [
       "<div>\n",
       "<style scoped>\n",
       "    .dataframe tbody tr th:only-of-type {\n",
       "        vertical-align: middle;\n",
       "    }\n",
       "\n",
       "    .dataframe tbody tr th {\n",
       "        vertical-align: top;\n",
       "    }\n",
       "\n",
       "    .dataframe thead th {\n",
       "        text-align: right;\n",
       "    }\n",
       "</style>\n",
       "<table border=\"1\" class=\"dataframe\">\n",
       "  <thead>\n",
       "    <tr style=\"text-align: right;\">\n",
       "      <th></th>\n",
       "      <th>State</th>\n",
       "      <th>Population</th>\n",
       "      <th>Murder.Rate</th>\n",
       "      <th>Abbreviation</th>\n",
       "    </tr>\n",
       "  </thead>\n",
       "  <tbody>\n",
       "    <tr>\n",
       "      <th>0</th>\n",
       "      <td>Alabama</td>\n",
       "      <td>4779736</td>\n",
       "      <td>5.7</td>\n",
       "      <td>AL</td>\n",
       "    </tr>\n",
       "    <tr>\n",
       "      <th>1</th>\n",
       "      <td>Alaska</td>\n",
       "      <td>710231</td>\n",
       "      <td>5.6</td>\n",
       "      <td>AK</td>\n",
       "    </tr>\n",
       "    <tr>\n",
       "      <th>2</th>\n",
       "      <td>Arizona</td>\n",
       "      <td>6392017</td>\n",
       "      <td>4.7</td>\n",
       "      <td>AZ</td>\n",
       "    </tr>\n",
       "    <tr>\n",
       "      <th>3</th>\n",
       "      <td>Arkansas</td>\n",
       "      <td>2915918</td>\n",
       "      <td>5.6</td>\n",
       "      <td>AR</td>\n",
       "    </tr>\n",
       "    <tr>\n",
       "      <th>4</th>\n",
       "      <td>California</td>\n",
       "      <td>37253956</td>\n",
       "      <td>4.4</td>\n",
       "      <td>CA</td>\n",
       "    </tr>\n",
       "  </tbody>\n",
       "</table>\n",
       "</div>"
      ],
      "text/plain": [
       "        State  Population  Murder.Rate Abbreviation\n",
       "0     Alabama     4779736          5.7           AL\n",
       "1      Alaska      710231          5.6           AK\n",
       "2     Arizona     6392017          4.7           AZ\n",
       "3    Arkansas     2915918          5.6           AR\n",
       "4  California    37253956          4.4           CA"
      ]
     },
     "execution_count": 21,
     "metadata": {},
     "output_type": "execute_result"
    }
   ],
   "source": [
    "states.head()"
   ]
  },
  {
   "cell_type": "markdown",
   "id": "acd6f24d-b574-445b-b5d8-3903b1ed374b",
   "metadata": {},
   "source": [
    "### Variância"
   ]
  },
  {
   "cell_type": "code",
   "execution_count": 22,
   "id": "edc8e2e8-c830-4214-b66f-80c5ce38daec",
   "metadata": {},
   "outputs": [
    {
     "data": {
      "text/plain": [
       "46898327373394"
      ]
     },
     "execution_count": 22,
     "metadata": {},
     "output_type": "execute_result"
    }
   ],
   "source": [
    "# Sensível aos outliers\n",
    "round(states['Population'].var())"
   ]
  },
  {
   "cell_type": "markdown",
   "id": "1aeb30ba-df95-4ab1-95c1-1b7323af5cac",
   "metadata": {},
   "source": [
    "### Desvio-padrão"
   ]
  },
  {
   "cell_type": "code",
   "execution_count": 23,
   "id": "21e4f4a5-0893-4fc4-a163-8a68e6ba5542",
   "metadata": {},
   "outputs": [
    {
     "data": {
      "text/plain": [
       "6848235"
      ]
     },
     "execution_count": 23,
     "metadata": {},
     "output_type": "execute_result"
    }
   ],
   "source": [
    "# Sensível aos outliers\n",
    "round(states['Population'].std())"
   ]
  },
  {
   "cell_type": "code",
   "execution_count": 24,
   "id": "42e4da67-ae24-4e32-b00c-b079f1450f2f",
   "metadata": {},
   "outputs": [
    {
     "data": {
      "text/plain": [
       "np.float64(3849870.3852)"
      ]
     },
     "execution_count": 24,
     "metadata": {},
     "output_type": "execute_result"
    }
   ],
   "source": [
    "# Median Absolute Deviation (MAD) para distribuição normal\n",
    "(states['Population'] - states['Population'].median()).abs().median() * 1.4826"
   ]
  },
  {
   "cell_type": "markdown",
   "id": "ead66a25-e5dd-4223-9f63-4d29e582a1fe",
   "metadata": {},
   "source": [
    "### Percentis"
   ]
  },
  {
   "cell_type": "code",
   "execution_count": 25,
   "id": "b45163ae-c50a-45f0-89ee-3eb1698036d0",
   "metadata": {},
   "outputs": [
    {
     "data": {
      "text/plain": [
       "np.float64(1833004.25)"
      ]
     },
     "execution_count": 25,
     "metadata": {},
     "output_type": "execute_result"
    }
   ],
   "source": [
    "# 25º percentil\n",
    "q1 = states['Population'].quantile(0.25)\n",
    "q1"
   ]
  },
  {
   "cell_type": "code",
   "execution_count": 26,
   "id": "38eb5451-34a1-4a51-b8e0-bb0278c92fc9",
   "metadata": {},
   "outputs": [
    {
     "data": {
      "text/plain": [
       "np.float64(6680312.25)"
      ]
     },
     "execution_count": 26,
     "metadata": {},
     "output_type": "execute_result"
    }
   ],
   "source": [
    "q3 = states['Population'].quantile(0.75)\n",
    "q3"
   ]
  },
  {
   "cell_type": "markdown",
   "id": "5f69d535-683d-4869-877c-989ae8231123",
   "metadata": {},
   "source": [
    "### Amplitude interquantis"
   ]
  },
  {
   "cell_type": "code",
   "execution_count": 27,
   "id": "e7bf85cf-9104-4503-bb3c-833eaad2d5e3",
   "metadata": {},
   "outputs": [
    {
     "data": {
      "text/plain": [
       "np.float64(4847308.0)"
      ]
     },
     "execution_count": 27,
     "metadata": {},
     "output_type": "execute_result"
    }
   ],
   "source": [
    "q3-q1"
   ]
  },
  {
   "cell_type": "code",
   "execution_count": 28,
   "id": "022d0d7e-09ba-49f7-b61b-d4759d538cdc",
   "metadata": {},
   "outputs": [
    {
     "data": {
      "image/png": "[encoded data removed]",
      "text/plain": [
       "<Figure size 640x480 with 1 Axes>"
      ]
     },
     "metadata": {},
     "output_type": "display_data"
    }
   ],
   "source": [
    "plt.hist(states['Population'], bins=10, edgecolor='k', alpha=0.7)\n",
    "plt.title('Histograma')\n",
    "plt.xlabel('Population')\n",
    "plt.ylabel('Frequência')\n",
    "plt.show()"
   ]
  }
 ],
 "metadata": {
  "kernelspec": {
   "display_name": "Python 3 (ipykernel)",
   "language": "python",
   "name": "python3"
  },
  "language_info": {
   "codemirror_mode": {
    "name": "ipython",
    "version": 3
   },
   "file_extension": ".py",
   "mimetype": "text/x-python",
   "name": "python",
   "nbconvert_exporter": "python",
   "pygments_lexer": "ipython3",
   "version": "3.12.3"
  }
 },
 "nbformat": 4,
 "nbformat_minor": 5
}
